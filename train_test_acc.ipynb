{
 "cells": [
  {
   "cell_type": "code",
   "execution_count": 13,
   "metadata": {},
   "outputs": [],
   "source": [
    "import pandas as pd\n",
    "import numpy as np\n",
    "\n",
    "from sklearn.preprocessing import StandardScaler, LabelEncoder\n",
    "from sklearn.model_selection import train_test_split\n",
    "from sklearn.ensemble import RandomForestClassifier\n",
    "from sklearn.metrics import accuracy_score"
   ]
  },
  {
   "cell_type": "code",
   "execution_count": 14,
   "metadata": {},
   "outputs": [],
   "source": [
    "raw_train = pd.read_csv('open/train.csv')"
   ]
  },
  {
   "cell_type": "code",
   "execution_count": 28,
   "metadata": {},
   "outputs": [],
   "source": [
    "X = raw_train\n",
    "Y = raw_train['Y_Class']\n",
    "\n",
    "X_ = []\n",
    "\n",
    "for i in range(1,2876):\n",
    "    tmp = 'X_'+str(i)\n",
    "    if len(X[tmp].unique()) >20:\n",
    "        pass\n",
    "    else:\n",
    "        X_.append(tmp)\n",
    "\n",
    "X = X.drop(columns=['PRODUCT_ID','TIMESTAMP', 'Y_Class', 'Y_Quality'])\n",
    "X = X.drop(columns=X_)\n",
    "X = X.fillna(0)\n",
    "\"\"\" \n",
    "이부분이 값이 20개 미만인 X_n변수들 걸러내는 부분\n",
    "\"\"\"\n",
    "\n",
    "X_tr, X_te, Y_tr,Y_te = train_test_split(X,Y,random_state=0)\n",
    "\n",
    "\"\"\" \n",
    "이부분이 트레이닝용 데이터에서 자체적으로 트레이닝용, 테스트용 데이터 분할하는 코드\n",
    "\"\"\""
   ]
  },
  {
   "cell_type": "code",
   "execution_count": null,
   "metadata": {},
   "outputs": [],
   "source": []
  },
  {
   "cell_type": "code",
   "execution_count": 29,
   "metadata": {},
   "outputs": [
    {
     "name": "stdout",
     "output_type": "stream",
     "text": [
      "Done.\n"
     ]
    }
   ],
   "source": [
    "qual_col = ['LINE', 'PRODUCT_CODE']\n",
    "\n",
    "for i in qual_col:\n",
    "    le = LabelEncoder()\n",
    "    le = le.fit(X_tr[i])\n",
    "    X_tr[i] = le.transform(X_tr[i])\n",
    "    \n",
    "    for label in np.unique(X_te[i]): \n",
    "        if label not in le.classes_: \n",
    "            le.classes_ = np.append(le.classes_, label)\n",
    "    X_te[i] = le.transform(X_te[i]) \n",
    "print('Done.')"
   ]
  },
  {
   "cell_type": "code",
   "execution_count": 30,
   "metadata": {},
   "outputs": [
    {
     "name": "stdout",
     "output_type": "stream",
     "text": [
      "Index(['LINE', 'PRODUCT_CODE', 'X_11', 'X_12', 'X_13', 'X_20', 'X_21', 'X_22',\n",
      "       'X_73', 'X_101',\n",
      "       ...\n",
      "       'X_2861', 'X_2862', 'X_2863', 'X_2864', 'X_2865', 'X_2866', 'X_2867',\n",
      "       'X_2868', 'X_2869', 'X_2870'],\n",
      "      dtype='object', length=1100)\n",
      "Index(['LINE', 'PRODUCT_CODE', 'X_11', 'X_12', 'X_13', 'X_20', 'X_21', 'X_22',\n",
      "       'X_73', 'X_101',\n",
      "       ...\n",
      "       'X_2861', 'X_2862', 'X_2863', 'X_2864', 'X_2865', 'X_2866', 'X_2867',\n",
      "       'X_2868', 'X_2869', 'X_2870'],\n",
      "      dtype='object', length=1100)\n"
     ]
    }
   ],
   "source": [
    "print(X_tr.columns)\n",
    "print(X_te.columns)"
   ]
  },
  {
   "cell_type": "code",
   "execution_count": 31,
   "metadata": {},
   "outputs": [
    {
     "name": "stdout",
     "output_type": "stream",
     "text": [
      "Done.\n"
     ]
    }
   ],
   "source": [
    "RF = RandomForestClassifier(random_state=37).fit(X_tr, Y_tr)\n",
    "print('Done.')"
   ]
  },
  {
   "cell_type": "code",
   "execution_count": 32,
   "metadata": {},
   "outputs": [
    {
     "name": "stdout",
     "output_type": "stream",
     "text": [
      "Done.\n"
     ]
    }
   ],
   "source": [
    "preds = RF.predict(X_te)\n",
    "print('Done.')"
   ]
  },
  {
   "cell_type": "code",
   "execution_count": 35,
   "metadata": {},
   "outputs": [
    {
     "name": "stdout",
     "output_type": "stream",
     "text": [
      "0.8\n"
     ]
    }
   ],
   "source": [
    "acc_score = accuracy_score(Y_te, preds)\n",
    "print(acc_score)\n",
    "\"\"\" \n",
    "예측값이랑 실제값으로 점수 내주는 부분\n",
    "아무래도 같은 데이터를 이용해서 그런가 점수가 높은데 오버피팅이 의심되긴함\n",
    "\"\"\""
   ]
  },
  {
   "cell_type": "code",
   "execution_count": null,
   "metadata": {},
   "outputs": [],
   "source": []
  }
 ],
 "metadata": {
  "kernelspec": {
   "display_name": "MLDL",
   "language": "python",
   "name": "python3"
  },
  "language_info": {
   "codemirror_mode": {
    "name": "ipython",
    "version": 3
   },
   "file_extension": ".py",
   "mimetype": "text/x-python",
   "name": "python",
   "nbconvert_exporter": "python",
   "pygments_lexer": "ipython3",
   "version": "3.7.6"
  },
  "orig_nbformat": 4,
  "vscode": {
   "interpreter": {
    "hash": "6b2b247abdf821007153232e2c80f1aa050a4adbd3c29ec9640ccd2cc1848795"
   }
  }
 },
 "nbformat": 4,
 "nbformat_minor": 2
}
